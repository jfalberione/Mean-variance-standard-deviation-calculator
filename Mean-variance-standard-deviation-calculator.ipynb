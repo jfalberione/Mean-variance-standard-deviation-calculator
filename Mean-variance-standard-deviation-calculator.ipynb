{
 "cells": [
  {
   "cell_type": "markdown",
   "id": "eff6a381",
   "metadata": {},
   "source": [
    "# Mean-Variance-Standard Deviation Calculator\n",
    "\n",
    "This notebook shows a simple calculator project that uses Numpy to output the mean, variance, standard deviation, max, min, and sum of the rows, columns, and elements in a 3 x 3 matrix."
   ]
  },
  {
   "cell_type": "code",
   "execution_count": 1,
   "id": "50c266d1",
   "metadata": {},
   "outputs": [],
   "source": [
    "import numpy as np"
   ]
  },
  {
   "cell_type": "markdown",
   "id": "ac05f4f2",
   "metadata": {},
   "source": [
    "## Creation of the function"
   ]
  },
  {
   "cell_type": "code",
   "execution_count": 2,
   "id": "ecbd4f3f",
   "metadata": {},
   "outputs": [],
   "source": [
    "def calculate():\n",
    "  if len(list) < 9: \n",
    "    raise ValueError(\"List must contain nine numbers.\") \n",
    "  else: \n",
    "      arr = np.array(list).reshape(3, 3)\n",
    "      mean = [np.mean(arr, axis=0).tolist(), np.mean(arr, axis=1).tolist(), np.mean(arr).tolist()]\n",
    "      variance = [np.var(arr, axis=0).tolist(), np.var(arr, axis=1).tolist(), np.var(arr).tolist()]\n",
    "      standard_deviation = [np.std(arr, axis=0).tolist(), np.std(arr, axis=1).tolist(), np.std(arr).tolist()]\n",
    "      max = [np.max(arr, axis=0).tolist(), np.max(arr, axis=1).tolist(), np.max(arr).tolist()]\n",
    "      min = [np.min(arr, axis=0).tolist(), np.min(arr, axis=1).tolist(), np.min(arr).tolist()]\n",
    "      sum = [np.sum(arr, axis=0).tolist(), np.sum(arr, axis=1).tolist(), np.sum(arr).tolist()]\n",
    "\n",
    "  calculations = {\n",
    "    'mean': mean, \n",
    "    'variance': variance, \n",
    "    'standard deviation': standard_deviation, \n",
    "    'max': max,  \n",
    "    'min': min,\n",
    "    'sum': sum\n",
    "    }\n",
    "  \n",
    "  return calculations"
   ]
  },
  {
   "cell_type": "code",
   "execution_count": 5,
   "id": "f04f4b1e",
   "metadata": {
    "scrolled": true
   },
   "outputs": [
    {
     "data": {
      "text/plain": [
       "{'mean': [[3.0, 4.0, 5.0], [1.0, 4.0, 7.0], 4.0],\n",
       " 'variance': [[6.0, 6.0, 6.0],\n",
       "  [0.6666666666666666, 0.6666666666666666, 0.6666666666666666],\n",
       "  6.666666666666667],\n",
       " 'standard deviation': [[2.449489742783178,\n",
       "   2.449489742783178,\n",
       "   2.449489742783178],\n",
       "  [0.816496580927726, 0.816496580927726, 0.816496580927726],\n",
       "  2.581988897471611],\n",
       " 'max': [[6, 7, 8], [2, 5, 8], 8],\n",
       " 'min': [[0, 1, 2], [0, 3, 6], 0],\n",
       " 'sum': [[9, 12, 15], [3, 12, 21], 36]}"
      ]
     },
     "execution_count": 5,
     "metadata": {},
     "output_type": "execute_result"
    }
   ],
   "source": [
    "calculate([0,1,2,3,4,5,6,7,8])"
   ]
  },
  {
   "cell_type": "code",
   "execution_count": null,
   "id": "3b03f86b",
   "metadata": {},
   "outputs": [],
   "source": []
  }
 ],
 "metadata": {
  "kernelspec": {
   "display_name": "Python 3 (ipykernel)",
   "language": "python",
   "name": "python3"
  },
  "language_info": {
   "codemirror_mode": {
    "name": "ipython",
    "version": 3
   },
   "file_extension": ".py",
   "mimetype": "text/x-python",
   "name": "python",
   "nbconvert_exporter": "python",
   "pygments_lexer": "ipython3",
   "version": "3.10.6"
  }
 },
 "nbformat": 4,
 "nbformat_minor": 5
}
